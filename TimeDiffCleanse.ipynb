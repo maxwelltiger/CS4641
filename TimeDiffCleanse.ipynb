{
 "cells": [
  {
   "cell_type": "code",
   "execution_count": 21,
   "metadata": {},
   "outputs": [],
   "source": [
    "import numpy as np\n",
    "import pandas as pd\n",
    "import math\n",
    "import datetime as dt\n",
    "from datetime import timedelta\n",
    "\n"
   ]
  },
  {
   "cell_type": "code",
   "execution_count": 8,
   "metadata": {},
   "outputs": [],
   "source": [
    "fires = pd.read_csv(\"Fires.csv\")"
   ]
  },
  {
   "cell_type": "code",
   "execution_count": 9,
   "metadata": {},
   "outputs": [],
   "source": [
    "data = fires[['FOD_ID',\n",
    "           'FPA_ID',\n",
    "           'FIRE_CODE',\n",
    "           'FIRE_NAME',\n",
    "           'FIRE_YEAR',\n",
    "           'DISCOVERY_DATE',\n",
    "           'DISCOVERY_DOY',\n",
    "           'DISCOVERY_TIME',\n",
    "           'STAT_CAUSE_CODE',\n",
    "           'STAT_CAUSE_DESCR',\n",
    "           'CONT_DATE',\n",
    "           'CONT_DOY',\n",
    "           'CONT_TIME',\n",
    "           'FIRE_SIZE',\n",
    "           'FIRE_SIZE_CLASS',\n",
    "           'LATITUDE',\n",
    "           'LONGITUDE',\n",
    "           'STATE',\n",
    "           'COUNTY']]"
   ]
  },
  {
   "cell_type": "code",
   "execution_count": 10,
   "metadata": {},
   "outputs": [],
   "source": [
    "data = data[data['CONT_DATE'].notna()]\n",
    "data['DISC_DATE'] = pd.to_datetime(data['DISCOVERY_DATE'] - pd.Timestamp(0).to_julian_date(), unit='D')\n",
    "data['CONTAIN_DATE'] = pd.to_datetime(data['CONT_DATE'] - pd.Timestamp(0).to_julian_date(), unit='D')\n",
    "data['DISCOVERY_TIME_SPLIT'] = data['DISCOVERY_TIME'].apply(lambda x:str(x/100).split('.'))\n",
    "data['CONT_TIME_SPLIT'] = data['CONT_TIME'].apply(lambda x:str(x/100).split('.'))\n",
    "data[['DISCOVERY_HOUR','DISCOVERY_MINUTE']] = pd.DataFrame(data['DISCOVERY_TIME_SPLIT'].to_list(),index= data.index)\n",
    "data[['CONT_HOUR','CONT_MINUTE']] = pd.DataFrame(data['CONT_TIME_SPLIT'].to_list(),index= data.index)\n",
    "\n"
   ]
  },
  {
   "cell_type": "code",
   "execution_count": 14,
   "metadata": {},
   "outputs": [],
   "source": [
    "data['DISCOVERY_HOUR'] = data['DISCOVERY_HOUR'].astype(float).fillna(0)\n",
    "data['DISCOVERY_MINUTE'] = data['DISCOVERY_MINUTE'].astype(float).fillna(0)\n",
    "data['CONT_HOUR'] = data['CONT_HOUR'].astype(float).fillna(0)\n",
    "data['CONT_MINUTE'] = data['CONT_MINUTE'].astype(float).fillna(0)"
   ]
  },
  {
   "cell_type": "code",
   "execution_count": 15,
   "metadata": {},
   "outputs": [
    {
     "data": {
      "text/plain": [
       "array([13.,  8., 19., 16., 18., 12., 17.,  6.,  9., 14., 20., 10., 15.,\n",
       "       11., 22.,  7.,  0.,  3.,  5., 21.,  2., 23.,  4.,  1.])"
      ]
     },
     "execution_count": 15,
     "metadata": {},
     "output_type": "execute_result"
    }
   ],
   "source": [
    "data['DISCOVERY_HOUR'].unique()"
   ]
  },
  {
   "cell_type": "code",
   "execution_count": 18,
   "metadata": {},
   "outputs": [],
   "source": [
    "for index_label, row_series in data.iterrows():\n",
    "    data.at[index_label , 'DISC_DATETIME'] = row_series['DISC_DATE'] + dt.timedelta(hours=int(row_series['DISCOVERY_HOUR']),minutes=int(row_series['DISCOVERY_MINUTE']))\n",
    "    data.at[index_label , 'CONT_DATETIME'] = row_series['CONTAIN_DATE'] + dt.timedelta(hours=int(row_series['CONT_HOUR']),minutes=int(row_series['CONT_MINUTE']))"
   ]
  },
  {
   "cell_type": "code",
   "execution_count": 20,
   "metadata": {},
   "outputs": [
    {
     "data": {
      "text/plain": [
       "0         0 days 04:03:00\n",
       "1         0 days 06:18:00\n",
       "2         0 days 01:03:00\n",
       "3         4 days 22:00:00\n",
       "4         4 days 20:00:00\n",
       "                ...      \n",
       "1880456   0 days 01:59:00\n",
       "1880457   0 days 00:59:00\n",
       "1880458   4 days 20:29:00\n",
       "1880459   0 days 00:34:00\n",
       "1880460   0 days 01:17:00\n",
       "Length: 988934, dtype: timedelta64[ns]"
      ]
     },
     "execution_count": 20,
     "metadata": {},
     "output_type": "execute_result"
    }
   ],
   "source": [
    "data['time_diff'] = data['CONT_DATETIME']-data['DISC_DATETIME']"
   ]
  },
  {
   "cell_type": "code",
   "execution_count": 87,
   "metadata": {},
   "outputs": [
    {
     "data": {
      "text/html": [
       "<div>\n",
       "<style scoped>\n",
       "    .dataframe tbody tr th:only-of-type {\n",
       "        vertical-align: middle;\n",
       "    }\n",
       "\n",
       "    .dataframe tbody tr th {\n",
       "        vertical-align: top;\n",
       "    }\n",
       "\n",
       "    .dataframe thead th {\n",
       "        text-align: right;\n",
       "    }\n",
       "</style>\n",
       "<table border=\"1\" class=\"dataframe\">\n",
       "  <thead>\n",
       "    <tr style=\"text-align: right;\">\n",
       "      <th></th>\n",
       "      <th>FOD_ID</th>\n",
       "      <th>FPA_ID</th>\n",
       "      <th>FIRE_CODE</th>\n",
       "      <th>FIRE_NAME</th>\n",
       "      <th>FIRE_YEAR</th>\n",
       "      <th>DISCOVERY_DATE</th>\n",
       "      <th>DISCOVERY_DOY</th>\n",
       "      <th>DISCOVERY_TIME</th>\n",
       "      <th>STAT_CAUSE_CODE</th>\n",
       "      <th>STAT_CAUSE_DESCR</th>\n",
       "      <th>...</th>\n",
       "      <th>STATE</th>\n",
       "      <th>COUNTY</th>\n",
       "      <th>DISC_DATE</th>\n",
       "      <th>CONTAIN_DATE</th>\n",
       "      <th>DISCOVERY_TIME_SPLIT</th>\n",
       "      <th>CONT_TIME_SPLIT</th>\n",
       "      <th>DISCOVERY_HOUR</th>\n",
       "      <th>DISCOVERY_MINUTE</th>\n",
       "      <th>CONT_HOUR</th>\n",
       "      <th>CONT_MINUTE</th>\n",
       "    </tr>\n",
       "  </thead>\n",
       "  <tbody>\n",
       "  </tbody>\n",
       "</table>\n",
       "<p>0 rows × 27 columns</p>\n",
       "</div>"
      ],
      "text/plain": [
       "Empty DataFrame\n",
       "Columns: [FOD_ID, FPA_ID, FIRE_CODE, FIRE_NAME, FIRE_YEAR, DISCOVERY_DATE, DISCOVERY_DOY, DISCOVERY_TIME, STAT_CAUSE_CODE, STAT_CAUSE_DESCR, CONT_DATE, CONT_DOY, CONT_TIME, FIRE_SIZE, FIRE_SIZE_CLASS, LATITUDE, LONGITUDE, STATE, COUNTY, DISC_DATE, CONTAIN_DATE, DISCOVERY_TIME_SPLIT, CONT_TIME_SPLIT, DISCOVERY_HOUR, DISCOVERY_MINUTE, CONT_HOUR, CONT_MINUTE]\n",
       "Index: []\n",
       "\n",
       "[0 rows x 27 columns]"
      ]
     },
     "execution_count": 87,
     "metadata": {},
     "output_type": "execute_result"
    }
   ],
   "source": []
  },
  {
   "cell_type": "code",
   "execution_count": null,
   "metadata": {},
   "outputs": [],
   "source": []
  }
 ],
 "metadata": {
  "kernelspec": {
   "display_name": "Python 3",
   "language": "python",
   "name": "python3"
  },
  "language_info": {
   "codemirror_mode": {
    "name": "ipython",
    "version": 3
   },
   "file_extension": ".py",
   "mimetype": "text/x-python",
   "name": "python",
   "nbconvert_exporter": "python",
   "pygments_lexer": "ipython3",
   "version": "3.7.9"
  }
 },
 "nbformat": 4,
 "nbformat_minor": 4
}
